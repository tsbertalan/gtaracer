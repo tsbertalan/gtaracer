{
 "cells": [
  {
   "cell_type": "code",
   "execution_count": null,
   "metadata": {
    "collapsed": true
   },
   "outputs": [],
   "source": [
    "import sys\n",
    "sys.path.append('../src')"
   ]
  },
  {
   "cell_type": "code",
   "execution_count": null,
   "metadata": {
    "collapsed": true
   },
   "outputs": [],
   "source": [
    "import time, os, sys\n",
    "import tqdm\n",
    "import numpy as np\n",
    "import matplotlib.pyplot as plt\n",
    "%matplotlib inline"
   ]
  },
  {
   "cell_type": "code",
   "execution_count": null,
   "metadata": {},
   "outputs": [],
   "source": [
    "import gta\n",
    "import importlib\n",
    "importlib.reload(gta)"
   ]
  },
  {
   "cell_type": "markdown",
   "metadata": {},
   "source": [
    "## Record gameplay.\n",
    "Press `escape` to stop the recording, after some keyboard inputs."
   ]
  },
  {
   "cell_type": "code",
   "execution_count": null,
   "metadata": {},
   "outputs": [],
   "source": [
    "win = gta.GTA()\n",
    "win.SetAsForegroundWindow()\n",
    "time.sleep(4)\n",
    "win.startRecordingKeyboard()\n",
    "win.grabImagesUntilInterrupted()"
   ]
  },
  {
   "cell_type": "code",
   "execution_count": null,
   "metadata": {
    "collapsed": true
   },
   "outputs": [],
   "source": [
    "len(win.imgs)"
   ]
  },
  {
   "cell_type": "code",
   "execution_count": null,
   "metadata": {},
   "outputs": [],
   "source": [
    "len(win.joystickRecorder.events)"
   ]
  },
  {
   "cell_type": "code",
   "execution_count": null,
   "metadata": {
    "collapsed": true
   },
   "outputs": [],
   "source": [
    "self = win"
   ]
  },
  {
   "cell_type": "code",
   "execution_count": null,
   "metadata": {
    "collapsed": true
   },
   "outputs": [],
   "source": [
    "def save(self, fpath=None, compressed=False):\n",
    "    start = time.time()\n",
    "    if fpath is None:\n",
    "        fpath = os.path.join(\n",
    "            os.path.expanduser('~'),\n",
    "            'data',\n",
    "            'gta%s.npz' % start\n",
    "            )\n",
    "\n",
    "    \n",
    "    gta.mkdir_p(os.path.dirname(fpath))\n",
    "\n",
    "    tosave = dict(\n",
    "        imgs=self.imgs,\n",
    "        imgTimes=self.imgTimes,\n",
    "        numericRecords=[],\n",
    "        **{k: np.stack(v) for (k,v) in self.joystickRecorder.getEvents().items()},\n",
    "    )\n",
    "    if len(self.keyRecord) > 0:\n",
    "        toSave['numericRecords'] = np.vstack(self.keyRecord)\n",
    "    \n",
    "    print('Saving to %s ... ' % fpath, end=''); sys.stdout.flush()\n",
    "    if compressed:\n",
    "        np.savez_compressed(fpath, **tosave)\n",
    "    else:\n",
    "        np.savez(fpath, **tosave)\n",
    "    print('done (elapsed %.0f s).' % (time.time() - start,))"
   ]
  },
  {
   "cell_type": "code",
   "execution_count": null,
   "metadata": {},
   "outputs": [],
   "source": [
    "print('Images are %.2f GB' % (win.imgs.size * win.imgs.dtype.itemsize / 1024 / 1024 / 1024,))"
   ]
  },
  {
   "cell_type": "code",
   "execution_count": null,
   "metadata": {},
   "outputs": [],
   "source": [
    "save(win, compressed=False)"
   ]
  },
  {
   "cell_type": "markdown",
   "metadata": {},
   "source": [
    "Takes about 4 times as long if compression is indicated."
   ]
  },
  {
   "cell_type": "code",
   "execution_count": null,
   "metadata": {},
   "outputs": [],
   "source": [
    "save(win, compressed=True)"
   ]
  },
  {
   "cell_type": "code",
   "execution_count": null,
   "metadata": {},
   "outputs": [],
   "source": [
    "win.save()"
   ]
  },
  {
   "cell_type": "markdown",
   "metadata": {},
   "source": [
    "## Load and use data."
   ]
  },
  {
   "cell_type": "code",
   "execution_count": null,
   "metadata": {
    "collapsed": true
   },
   "outputs": [],
   "source": [
    "states = win.states\n",
    "nimgs = 4*6\n",
    "startIndex = 0\n",
    "imgs = win.imgs[startIndex:startIndex+nimgs]\n",
    "imgTimes = win.imgTimes[startIndex:startIndex+nimgs]\n",
    "statest = states[startIndex:startIndex+nimgs]"
   ]
  },
  {
   "cell_type": "code",
   "execution_count": null,
   "metadata": {
    "scrolled": true
   },
   "outputs": [],
   "source": [
    "keyNames = list(win.keyNames); keyNames.append('other')\n",
    "ncols = 4\n",
    "nrows = int(len(imgs) / ncols)\n",
    "fig, axes = plt.subplots(nrows=nrows, ncols=ncols, figsize=(12, 3*nrows))\n",
    "iimg = 0\n",
    "for i in range(nrows):\n",
    "    for j in range(ncols):\n",
    "        ax = axes[i][j]\n",
    "        ax.imshow(imgs[iimg])\n",
    "        ax.set_xticks([])\n",
    "        ax.set_yticks([])\n",
    "        ax.set_title(\n",
    "            '$t=%.3f$ seconds' % (imgTimes[iimg] - imgTimes[0],)\n",
    "            +'\\nkeys: \"%s\"=(%s)' % (\n",
    "                ''.join([name for (name, keydown) in zip(keyNames, statest[iimg]) if keydown]),\n",
    "                ' '.join(['%d' % s for s in statest[iimg]]),\n",
    "            )\n",
    "        )\n",
    "        iimg += 1\n",
    "fig.tight_layout()\n",
    "fig.subplots_adjust(wspace=0, hspace=.0)\n",
    "fig.savefig('tensorflowGta.png')"
   ]
  }
 ],
 "metadata": {
  "kernelspec": {
   "display_name": "Python 3",
   "language": "python",
   "name": "python3"
  },
  "language_info": {
   "codemirror_mode": {
    "name": "ipython",
    "version": 3
   },
   "file_extension": ".py",
   "mimetype": "text/x-python",
   "name": "python",
   "nbconvert_exporter": "python",
   "pygments_lexer": "ipython3",
   "version": "3.6.2"
  }
 },
 "nbformat": 4,
 "nbformat_minor": 2
}
