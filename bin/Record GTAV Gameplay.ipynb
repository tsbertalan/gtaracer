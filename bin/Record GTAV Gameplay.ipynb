{
 "cells": [
  {
   "cell_type": "code",
   "execution_count": 8,
   "metadata": {
    "collapsed": true
   },
   "outputs": [],
   "source": [
    "import sys\n",
    "sys.path.append('../src')"
   ]
  },
  {
   "cell_type": "code",
   "execution_count": 9,
   "metadata": {
    "collapsed": true
   },
   "outputs": [],
   "source": [
    "from importlib import reload\n",
    "import numpy as np\n",
    "import matplotlib.pyplot as plt\n",
    "import time\n",
    "%matplotlib inline"
   ]
  },
  {
   "cell_type": "markdown",
   "metadata": {},
   "source": [
    "## Record gameplay.\n",
    "Call recorder.stop() to interrupt recording."
   ]
  },
  {
   "cell_type": "code",
   "execution_count": 3,
   "metadata": {
    "collapsed": true
   },
   "outputs": [],
   "source": [
    "import gta.recording.unified\n",
    "recording = gta.recording.unified.UnifiedRecorder(\n",
    "    includeKeyboard=False,\n",
    "    gamepadPeriod=.001, visionPeriod=.05\n",
    ")\n",
    "recording.start()\n",
    "time.sleep(10)"
   ]
  },
  {
   "cell_type": "code",
   "execution_count": null,
   "metadata": {},
   "outputs": [],
   "source": [
    "print('Images are ... ', end='')\n",
    "while True:\n",
    "    X = recording.xrecorder.results\n",
    "    print('%.2fGB ' % (X.size * X.dtype.itemsize / 1024 / 1024 / 1024,), end='')\n",
    "    time.sleep(4)"
   ]
  },
  {
   "cell_type": "code",
   "execution_count": 5,
   "metadata": {
    "collapsed": true
   },
   "outputs": [],
   "source": [
    "recording.stop()"
   ]
  },
  {
   "cell_type": "code",
   "execution_count": 6,
   "metadata": {},
   "outputs": [
    {
     "name": "stdout",
     "output_type": "stream",
     "text": [
      "9.27GB "
     ]
    }
   ],
   "source": [
    "X = recording.xrecorder.results\n",
    "print('%.2fGB ' % (X.size * X.dtype.itemsize / 1024 / 1024 / 1024,), end='')\n",
    "del X"
   ]
  },
  {
   "cell_type": "code",
   "execution_count": 11,
   "metadata": {},
   "outputs": [
    {
     "name": "stdout",
     "output_type": "stream",
     "text": [
      "Saving to C:\\Users\\tsbertalan\\data\\UnifiedRecorder-1509210169.3261402.npz ... Generated XYT in 23.6 seconds.\n",
      "done (1.69e+03 s).\n"
     ]
    }
   ],
   "source": [
    "saved = recording.save(compressed=False)"
   ]
  },
  {
   "cell_type": "code",
   "execution_count": 12,
   "metadata": {},
   "outputs": [
    {
     "data": {
      "text/plain": [
       "28.166666666666668"
      ]
     },
     "execution_count": 12,
     "metadata": {},
     "output_type": "execute_result"
    }
   ],
   "source": [
    "1.69e3/60"
   ]
  },
  {
   "cell_type": "code",
   "execution_count": 21,
   "metadata": {},
   "outputs": [
    {
     "data": {
      "text/plain": [
       "59.4921875"
      ]
     },
     "execution_count": 21,
     "metadata": {},
     "output_type": "execute_result"
    }
   ],
   "source": [
    "saved['Y'].size / 1024"
   ]
  },
  {
   "cell_type": "markdown",
   "metadata": {},
   "source": [
    "Takes about 4 times as long if compression is indicated."
   ]
  },
  {
   "cell_type": "markdown",
   "metadata": {},
   "source": [
    "## Load and use data."
   ]
  },
  {
   "cell_type": "code",
   "execution_count": 2,
   "metadata": {
    "collapsed": true
   },
   "outputs": [],
   "source": [
    "import sys\n",
    "sys.path.append('../src')"
   ]
  },
  {
   "cell_type": "code",
   "execution_count": 3,
   "metadata": {
    "collapsed": true
   },
   "outputs": [],
   "source": [
    "from importlib import reload\n",
    "import numpy as np\n",
    "import matplotlib.pyplot as plt\n",
    "import time\n",
    "import tqdm\n",
    "%matplotlib inline"
   ]
  },
  {
   "cell_type": "code",
   "execution_count": 4,
   "metadata": {
    "collapsed": true
   },
   "outputs": [],
   "source": [
    "import gta.utils, os"
   ]
  },
  {
   "cell_type": "code",
   "execution_count": 5,
   "metadata": {},
   "outputs": [],
   "source": [
    "fpath = os.path.join(gta.utils.home, 'data', 'UnifiedRecorder-1509207348.4853144.npz')"
   ]
  },
  {
   "cell_type": "code",
   "execution_count": null,
   "metadata": {
    "collapsed": true
   },
   "outputs": [],
   "source": [
    "keepEids = [0, 2, 5]"
   ]
  },
  {
   "cell_type": "code",
   "execution_count": 19,
   "metadata": {},
   "outputs": [],
   "source": [
    "%%time\n",
    "try:\n",
    "    saved.keys()\n",
    "except NameError:\n",
    "    # Data not loaded.\n",
    "    saved = np.load(fpath)\n",
    "DT = np.diff(saved['T'])\n",
    "X = saved['X'][1:]\n",
    "# Only keep the first 6 features (gamepad; leave out buttons)\n",
    "Y = saved['Y'][1:][:, keepEids]"
   ]
  },
  {
   "cell_type": "markdown",
   "metadata": {},
   "source": [
    "Normalize the data."
   ]
  },
  {
   "cell_type": "code",
   "execution_count": 21,
   "metadata": {},
   "outputs": [],
   "source": [
    "# data is too big for this\n",
    "# X = (X.astype('float32') - 128) / 256"
   ]
  },
  {
   "cell_type": "code",
   "execution_count": 22,
   "metadata": {
    "collapsed": true
   },
   "outputs": [],
   "source": [
    "def normalize(mat):\n",
    "    return (mat.astype('float32') - 127.5) / 255"
   ]
  },
  {
   "cell_type": "markdown",
   "metadata": {},
   "source": [
    "What does the distribution of outputs look like?"
   ]
  },
  {
   "cell_type": "code",
   "execution_count": 23,
   "metadata": {},
   "outputs": [
    {
     "data": {
      "image/png": "[encoded data removed]",
      "text/plain": [
       "<matplotlib.figure.Figure at 0x1cba913ceb8>"
      ]
     },
     "metadata": {},
     "output_type": "display_data"
    }
   ],
   "source": [
    "fig, ax = plt.subplots()\n",
    "for eid in keepEids:\n",
    "    label = gta.eventIDs.eids2names[eid]\n",
    "    ax.hist(Y[:, eid], label=label, alpha=.2, normed=True, bins=32)\n",
    "ax.legend();"
   ]
  },
  {
   "cell_type": "code",
   "execution_count": 24,
   "metadata": {},
   "outputs": [
    {
     "data": {
      "text/plain": [
       "(3045, 3)"
      ]
     },
     "execution_count": 24,
     "metadata": {},
     "output_type": "execute_result"
    }
   ],
   "source": [
    "Y = Y[:, keepEids]\n",
    "Y.shape"
   ]
  },
  {
   "cell_type": "code",
   "execution_count": 25,
   "metadata": {},
   "outputs": [
    {
     "data": {
      "text/plain": [
       "((2436, 797, 1366, 3), (304, 797, 1366, 3), (304, 797, 1366, 3))"
      ]
     },
     "execution_count": 25,
     "metadata": {},
     "output_type": "execute_result"
    }
   ],
   "source": [
    "splits = int(len(DT) * .8), int(len(DT) * .9)\n",
    "\n",
    "def s(a, b):\n",
    "    return X[a:b], Y[a:b], DT[a:b]\n",
    "\n",
    "X_train, Y_train, DT_train = s(0, splits[0])\n",
    "X_test, Y_test, DT_test = s(splits[0], splits[1])\n",
    "X_valid, Y_valid, DT_valid = s(splits[1], -1)\n",
    "X_train.shape, X_test.shape, X_valid.shape"
   ]
  },
  {
   "cell_type": "code",
   "execution_count": 26,
   "metadata": {},
   "outputs": [
    {
     "data": {
      "text/plain": [
       "(2436, 304, 304)"
      ]
     },
     "execution_count": 26,
     "metadata": {},
     "output_type": "execute_result"
    }
   ],
   "source": [
    "n_train = len(DT_train)\n",
    "n_test = len(DT_test)\n",
    "n_valid = len(DT_valid)\n",
    "n_train, n_test, n_valid"
   ]
  },
  {
   "cell_type": "code",
   "execution_count": 27,
   "metadata": {},
   "outputs": [],
   "source": [
    "image_shape = X_train.shape[1:]"
   ]
  },
  {
   "cell_type": "code",
   "execution_count": 28,
   "metadata": {},
   "outputs": [],
   "source": [
    "import tensorflow as tf\n",
    "import gta.nn\n",
    "reload(gta.nn);"
   ]
  },
  {
   "cell_type": "code",
   "execution_count": 29,
   "metadata": {
    "collapsed": true
   },
   "outputs": [],
   "source": [
    "x = tf.placeholder(tf.float32, (None, *image_shape), name='images')\n",
    "y = tf.placeholder(tf.float32, (None, 3), name='gamepad_axes')"
   ]
  },
  {
   "cell_type": "code",
   "execution_count": 30,
   "metadata": {},
   "outputs": [
    {
     "data": {
      "text/plain": [
       "(<tf.Tensor 'gamepad_axes:0' shape=(?, 3) dtype=float32>,\n",
       " <tf.Tensor 'predictions:0' shape=(?, 3) dtype=float32>)"
      ]
     },
     "execution_count": 30,
     "metadata": {},
     "output_type": "execute_result"
    }
   ],
   "source": [
    "class Arch(gta.nn.ConvNet):\n",
    "    \n",
    "    def __call__(self, x, name='predictions'):\n",
    "        td = self._addConv2d\n",
    "        fc = self._addFc\n",
    "        #self.keep_prob = tf.placeholder_with_default(.5, shape=())\n",
    "        \n",
    "        x = td(x, (8, 8, self.c, 12), padding='SAME', pooling=False)\n",
    "        x = td(x, (8, 8, int(x.shape[-1]), 12), padding='VALID')\n",
    "        #x = tf.nn.dropout(x, self.keep_prob)\n",
    "        \n",
    "        x = td(x, (3, 3, int(x.shape[-1]), 16), padding='SAME')#, pooling=False)\n",
    "        x = td(x, (3, 3, int(x.shape[-1]), 16), padding='VALID')\n",
    "        \n",
    "        x = td(x, (3, 3, int(x.shape[-1]), 32), padding='SAME')#, pooling=False)\n",
    "        x = td(x, (3, 3, int(x.shape[-1]), 32), padding='VALID')\n",
    "        \n",
    "        x = td(x, (3, 3, int(x.shape[-1]), 64), padding='SAME')#, pooling=False)\n",
    "        x = td(x, (3, 3, int(x.shape[-1]), 64), padding='VALID')\n",
    "        \n",
    "        x = tf.contrib.layers.flatten(x)\n",
    "        \n",
    "        x = fc(x, (int(x.shape[-1]), 32))\n",
    "        x = fc(x, (int(x.shape[-1]), Y.shape[1]), name=name)\n",
    "        \n",
    "        return x\n",
    "\n",
    "net = Arch(c=image_shape[-1])\n",
    "z = net(x)\n",
    "y, z"
   ]
  },
  {
   "cell_type": "markdown",
   "metadata": {},
   "source": [
    "## Train"
   ]
  },
  {
   "cell_type": "code",
   "execution_count": 31,
   "metadata": {
    "collapsed": true
   },
   "outputs": [],
   "source": [
    "loss = tf.losses.mean_squared_error(y, z)\n",
    "learning_rate = .001\n",
    "training_operation = tf.train.AdamOptimizer(learning_rate=learning_rate).minimize(loss)"
   ]
  },
  {
   "cell_type": "code",
   "execution_count": 13,
   "metadata": {},
   "outputs": [],
   "source": [
    "import gta.utils; reload(gta.utils);"
   ]
  },
  {
   "cell_type": "code",
   "execution_count": 14,
   "metadata": {},
   "outputs": [
    {
     "name": "stdout",
     "output_type": "stream",
     "text": [
      "thing ... 0.0 sec elapsed\n"
     ]
    }
   ],
   "source": [
    "with gta.utils.timeit('thing'):\n",
    "    pass"
   ]
  },
  {
   "cell_type": "code",
   "execution_count": 32,
   "metadata": {
    "collapsed": true
   },
   "outputs": [],
   "source": [
    "EPOCHS = 150\n",
    "BATCH_SIZE = 128"
   ]
  },
  {
   "cell_type": "code",
   "execution_count": 37,
   "metadata": {
    "collapsed": true
   },
   "outputs": [],
   "source": [
    "def evaluate(X_data, y_data, sess=None, extraFeedDict={}):\n",
    "    if hasattr(net, 'keep_prob'):\n",
    "        extraFeedDict.setdefault(net.keep_prob, 1.0)\n",
    "    num_examples = len(X_data)\n",
    "    total_accuracy = 0\n",
    "    if sess is None: sess = tf.get_default_session()\n",
    "        \n",
    "    num = 0\n",
    "    den = 0\n",
    "    \n",
    "    for offset in tqdm.tqdm(range(0, num_examples, BATCH_SIZE)):\n",
    "        batch_x, batch_y = X_data[offset:offset+BATCH_SIZE], y_data[offset:offset+BATCH_SIZE]\n",
    "        fd = {x: normalize(batch_x), y: batch_y}\n",
    "        fd.update(extraFeedDict)\n",
    "        run = lambda inp: sess.run(inp, feed_dict=fd)\n",
    "        \n",
    "        num += run(tf.reduce_sum((y - z) ** 2))\n",
    "        den += len(batch_x)\n",
    "        \n",
    "    return num / den"
   ]
  },
  {
   "cell_type": "markdown",
   "metadata": {},
   "source": [
    "Evaluate the untrained network."
   ]
  },
  {
   "cell_type": "code",
   "execution_count": null,
   "metadata": {
    "scrolled": false
   },
   "outputs": [],
   "source": [
    "with tf.Session() as sess:\n",
    "    sess.run(tf.global_variables_initializer())\n",
    "    print(evaluate(X_valid, Y_valid))"
   ]
  }
 ],
 "metadata": {
  "kernelspec": {
   "display_name": "Python 3",
   "language": "python",
   "name": "python3"
  },
  "language_info": {
   "codemirror_mode": {
    "name": "ipython",
    "version": 3
   },
   "file_extension": ".py",
   "mimetype": "text/x-python",
   "name": "python",
   "nbconvert_exporter": "python",
   "pygments_lexer": "ipython3",
   "version": "3.6.2"
  }
 },
 "nbformat": 4,
 "nbformat_minor": 2
}
