{
 "cells": [
  {
   "cell_type": "code",
   "execution_count": 1,
   "metadata": {
    "collapsed": true
   },
   "outputs": [],
   "source": [
    "import sys\n",
    "sys.path.append('../src')"
   ]
  },
  {
   "cell_type": "code",
   "execution_count": 2,
   "metadata": {
    "collapsed": true
   },
   "outputs": [],
   "source": [
    "from importlib import reload\n",
    "import numpy as np\n",
    "import matplotlib.pyplot as plt\n",
    "import time\n",
    "%matplotlib inline"
   ]
  },
  {
   "cell_type": "code",
   "execution_count": 3,
   "metadata": {
    "collapsed": true
   },
   "outputs": [],
   "source": [
    "import gta.recording.unified"
   ]
  },
  {
   "cell_type": "code",
   "execution_count": 4,
   "metadata": {
    "collapsed": true
   },
   "outputs": [],
   "source": [
    "# recording = gta.recording.unified.UnifiedRecorder(\n",
    "#     includeKeyboard=False,\n",
    "#     gamepadPeriod=.001, visionPeriod=.001\n",
    "# )\n",
    "# recording.start()\n",
    "# time.sleep(10)"
   ]
  },
  {
   "cell_type": "code",
   "execution_count": 5,
   "metadata": {
    "collapsed": true
   },
   "outputs": [],
   "source": [
    "# recording.stop()"
   ]
  },
  {
   "cell_type": "code",
   "execution_count": 6,
   "metadata": {
    "collapsed": true
   },
   "outputs": [],
   "source": [
    "# X, Y, T = recording.XYT()"
   ]
  },
  {
   "cell_type": "code",
   "execution_count": 7,
   "metadata": {},
   "outputs": [],
   "source": [
    "gpRecording = gta.recording.gamepad.GamepadRecorder(period=.001)\n",
    "gpRecording.start()\n",
    "time.sleep(10)"
   ]
  },
  {
   "cell_type": "code",
   "execution_count": 8,
   "metadata": {
    "collapsed": true
   },
   "outputs": [],
   "source": [
    "gpRecording.stop()"
   ]
  },
  {
   "cell_type": "code",
   "execution_count": 9,
   "metadata": {},
   "outputs": [],
   "source": [
    "results = gpRecording.results"
   ]
  },
  {
   "cell_type": "code",
   "execution_count": 10,
   "metadata": {
    "collapsed": true
   },
   "outputs": [],
   "source": [
    "T = gpRecording.times\n",
    "Y = np.zeros((T.size, int(results[:, 0].max()+1))).astype(float)\n",
    "state = np.zeros((int(results[:, 0].max()+1,)))\n",
    "for i, (eid, value) in enumerate(results):\n",
    "    state[int(eid)] = value\n",
    "    Y[i, :] = state"
   ]
  },
  {
   "cell_type": "code",
   "execution_count": 11,
   "metadata": {},
   "outputs": [
    {
     "data": {
      "text/plain": [
       "406"
      ]
     },
     "execution_count": 11,
     "metadata": {},
     "output_type": "execute_result"
    }
   ],
   "source": [
    "len(T)"
   ]
  },
  {
   "cell_type": "code",
   "execution_count": 12,
   "metadata": {},
   "outputs": [
    {
     "data": {
      "text/plain": [
       "<module 'gta.gameInputs' from '../src\\\\gta\\\\gameInputs\\\\__init__.py'>"
      ]
     },
     "execution_count": 12,
     "metadata": {},
     "output_type": "execute_result"
    }
   ],
   "source": [
    "import gta.gameInputs\n",
    "reload(gta.gameInputs)"
   ]
  },
  {
   "cell_type": "code",
   "execution_count": 13,
   "metadata": {},
   "outputs": [],
   "source": [
    "controlInputs = gta.gameInputs.ControlInputs()\n",
    "controlInputs.gamepadEmulator.neutral()"
   ]
  },
  {
   "cell_type": "code",
   "execution_count": 14,
   "metadata": {
    "collapsed": true
   },
   "outputs": [],
   "source": [
    "# controlInputs.applyControlState([0, 0, 0, 0, 0, 1])"
   ]
  },
  {
   "cell_type": "code",
   "execution_count": 15,
   "metadata": {
    "collapsed": true
   },
   "outputs": [],
   "source": [
    "import os"
   ]
  },
  {
   "cell_type": "code",
   "execution_count": 16,
   "metadata": {},
   "outputs": [],
   "source": [
    "fpath = os.path.join(os.path.expanduser('~'), 'data', 'data.npz')"
   ]
  },
  {
   "cell_type": "code",
   "execution_count": 17,
   "metadata": {},
   "outputs": [
    {
     "data": {
      "text/plain": [
       "'C:\\\\Users\\\\tsbertalan\\\\data'"
      ]
     },
     "execution_count": 17,
     "metadata": {},
     "output_type": "execute_result"
    }
   ],
   "source": [
    "os.path.dirname(fpath)"
   ]
  },
  {
   "cell_type": "code",
   "execution_count": 18,
   "metadata": {},
   "outputs": [],
   "source": [
    "controlInputs.applyControlState([0, 0, 0, 0, 0, 0])"
   ]
  },
  {
   "cell_type": "code",
   "execution_count": null,
   "metadata": {},
   "outputs": [],
   "source": [
    "fig, ax = plt.subplots()\n",
    "ax.plot(T[:-1] - T.min(), np.diff(T))\n",
    "ax.set_xlabel('$t$')\n",
    "ax.set_ylabel('$\\Delta t$');"
   ]
  },
  {
   "cell_type": "code",
   "execution_count": null,
   "metadata": {},
   "outputs": [],
   "source": [
    "dt = np.diff(T)\n",
    "fig, ax = plt.subplots()\n",
    "ax.hist(np.log10(dt[dt != 0]), bins=16, color='black')\n",
    "ax.set_xlabel('$\\log_{10}(\\Delta t)$')\n",
    "ax.set_ylabel('bin count');\n",
    "ax.axvline(np.log10(gpRecording.workerArgs[-1]), label='Goal period', color='red')\n",
    "ax.legend();"
   ]
  },
  {
   "cell_type": "code",
   "execution_count": null,
   "metadata": {},
   "outputs": [],
   "source": [
    "fig, ax = plt.subplots()\n",
    "for i in 0, 1, 5:\n",
    "    y = Y[:, i]\n",
    "    ax.plot(T-T.min(), y, label=gta.eventIDs.eids2names[i])\n",
    "ax.legend()\n",
    "ax.set_ylabel(value)\n",
    "ax.set_xlabel('$t$ [s]');"
   ]
  },
  {
   "cell_type": "code",
   "execution_count": 22,
   "metadata": {},
   "outputs": [
    {
     "name": "stdout",
     "output_type": "stream",
     "text": [
      "Skipped an input at t=5.8 (dt=0.0005)\n"
     ]
    }
   ],
   "source": [
    "t0 = time.time()\n",
    "tlast = 0\n",
    "for t, y in zip(T-T.min(), Y):\n",
    "    now = time.time() - t0\n",
    "    if now <= t:\n",
    "        d = t - now\n",
    "        time.sleep(d)\n",
    "        controlInputs.applyControlState(y)\n",
    "    else:\n",
    "        if t-tlast > 0:\n",
    "            print('Skipped an input at t=%.2g (dt=%.2g)' % (t, t-tlast))\n",
    "    tlast = t"
   ]
  },
  {
   "cell_type": "code",
   "execution_count": 23,
   "metadata": {
    "collapsed": true
   },
   "outputs": [],
   "source": [
    "controlInputs.gamepadEmulator.neutral()"
   ]
  },
  {
   "cell_type": "code",
   "execution_count": 24,
   "metadata": {},
   "outputs": [
    {
     "name": "stdout",
     "output_type": "stream",
     "text": [
      "Saving to C:\\Users\\tsbertalan\\data\\GamepadRecorder-1509205946.5526927.np ... done (0.027 s).\n"
     ]
    }
   ],
   "source": [
    "gpRecording.save()"
   ]
  }
 ],
 "metadata": {
  "kernelspec": {
   "display_name": "Python 3",
   "language": "python",
   "name": "python3"
  },
  "language_info": {
   "codemirror_mode": {
    "name": "ipython",
    "version": 3
   },
   "file_extension": ".py",
   "mimetype": "text/x-python",
   "name": "python",
   "nbconvert_exporter": "python",
   "pygments_lexer": "ipython3",
   "version": "3.6.2"
  }
 },
 "nbformat": 4,
 "nbformat_minor": 2
}
