{
 "cells": [
  {
   "cell_type": "code",
   "execution_count": 1,
   "metadata": {
    "collapsed": true
   },
   "outputs": [],
   "source": [
    "import sys\n",
    "sys.path.append('../src')"
   ]
  },
  {
   "cell_type": "code",
   "execution_count": 2,
   "metadata": {
    "collapsed": true
   },
   "outputs": [],
   "source": [
    "from importlib import reload\n",
    "import numpy as np\n",
    "import matplotlib.pyplot as plt\n",
    "import time\n",
    "%matplotlib inline"
   ]
  },
  {
   "cell_type": "markdown",
   "metadata": {},
   "source": [
    "## Test vision recorder"
   ]
  },
  {
   "cell_type": "code",
   "execution_count": null,
   "metadata": {},
   "outputs": [],
   "source": [
    "import gta.vision"
   ]
  },
  {
   "cell_type": "code",
   "execution_count": null,
   "metadata": {
    "collapsed": true
   },
   "outputs": [],
   "source": [
    "recorder = gta.vision.VisionRecorder()\n",
    "recorder.start()\n",
    "time.sleep(2)\n",
    "recorder.stop()"
   ]
  },
  {
   "cell_type": "code",
   "execution_count": null,
   "metadata": {},
   "outputs": [],
   "source": [
    "recorder.results.shape"
   ]
  },
  {
   "cell_type": "code",
   "execution_count": null,
   "metadata": {},
   "outputs": [],
   "source": [
    "print('Mean time between images is %g sec.' % np.mean(np.diff(recorder.times)))"
   ]
  },
  {
   "cell_type": "code",
   "execution_count": null,
   "metadata": {},
   "outputs": [],
   "source": [
    "fig, ax = plt.subplots()\n",
    "i = -1\n",
    "ax.imshow(recorder.results[i])\n",
    "times = recorder.times\n",
    "ax.set_title('$t=%g$ sec' % (times[i] - times[0],));"
   ]
  },
  {
   "cell_type": "code",
   "execution_count": null,
   "metadata": {},
   "outputs": [],
   "source": [
    "recorder.results.shape"
   ]
  },
  {
   "cell_type": "markdown",
   "metadata": {},
   "source": [
    "## Test keyboard recorder"
   ]
  },
  {
   "cell_type": "code",
   "execution_count": null,
   "metadata": {},
   "outputs": [],
   "source": [
    "import gta.keyboard\n",
    "import gta.eventIDs\n",
    "reload(gta.keyboard);\n",
    "reload(gta.eventIDs);"
   ]
  },
  {
   "cell_type": "code",
   "execution_count": null,
   "metadata": {},
   "outputs": [],
   "source": [
    "recorder = gta.keyboard.KeyboardRecorder()\n",
    "recorder.start()\n",
    "print('Use the keyboard now ...', end=' ')\n",
    "time.sleep(10)\n",
    "recorder.stop()\n",
    "print('done.')"
   ]
  },
  {
   "cell_type": "code",
   "execution_count": null,
   "metadata": {},
   "outputs": [],
   "source": [
    "len(recorder.resultsList)"
   ]
  },
  {
   "cell_type": "code",
   "execution_count": null,
   "metadata": {
    "scrolled": true
   },
   "outputs": [],
   "source": [
    "t0 = recorder.times[0]\n",
    "[\n",
    "    print('%.3f %s %s' % (t-t0, eid, down))\n",
    "    for t, (eid, down) in zip(recorder.times, recorder.results)\n",
    "];"
   ]
  },
  {
   "cell_type": "code",
   "execution_count": null,
   "metadata": {
    "scrolled": true
   },
   "outputs": [],
   "source": [
    "assert -1 not in recorder.results[:, 0]"
   ]
  },
  {
   "cell_type": "code",
   "execution_count": null,
   "metadata": {},
   "outputs": [],
   "source": [
    "recorder.results.shape"
   ]
  },
  {
   "cell_type": "markdown",
   "metadata": {},
   "source": [
    "## Test gamepad recorder"
   ]
  },
  {
   "cell_type": "code",
   "execution_count": null,
   "metadata": {},
   "outputs": [],
   "source": [
    "import gta.gamepad, gta.eventIDs\n",
    "reload(gta.gamepad);\n",
    "reload(gta.eventIDs);"
   ]
  },
  {
   "cell_type": "code",
   "execution_count": null,
   "metadata": {},
   "outputs": [],
   "source": [
    "recorder = gta.gamepad.GamepadRecorder()"
   ]
  },
  {
   "cell_type": "code",
   "execution_count": null,
   "metadata": {
    "collapsed": true
   },
   "outputs": [],
   "source": [
    "recorder.start()"
   ]
  },
  {
   "cell_type": "code",
   "execution_count": null,
   "metadata": {},
   "outputs": [],
   "source": [
    "recorder.worker.is_alive()"
   ]
  },
  {
   "cell_type": "code",
   "execution_count": null,
   "metadata": {},
   "outputs": [],
   "source": [
    "allKeys = set()\n",
    "nbuttons = 20\n",
    "print('Use all %d controls:' % nbuttons)\n",
    "while True:\n",
    "    time.sleep(1)\n",
    "    l = set([n for (t, (n, v)) in recorder.resultsList])\n",
    "    newKeys = l.difference(allKeys)\n",
    "    done = False\n",
    "    if len(newKeys) > 0:\n",
    "        for eid in newKeys:\n",
    "            print(eid, end='=')\n",
    "            print(gta.eventIDs.eids2names[eid], end='')\n",
    "            allKeys.add(eid)\n",
    "            if len(allKeys) >= nbuttons:\n",
    "                print('.')\n",
    "                done = True\n",
    "            else:\n",
    "                print(', ')\n",
    "    if done:\n",
    "        break"
   ]
  },
  {
   "cell_type": "code",
   "execution_count": null,
   "metadata": {},
   "outputs": [],
   "source": [
    "len(recorder.times)"
   ]
  },
  {
   "cell_type": "code",
   "execution_count": null,
   "metadata": {},
   "outputs": [],
   "source": [
    "recorder.results.shape"
   ]
  },
  {
   "cell_type": "code",
   "execution_count": null,
   "metadata": {
    "scrolled": true
   },
   "outputs": [],
   "source": [
    "t0 = recorder.times[0]\n",
    "for (t, (eid, v)) in recorder.resultsList:\n",
    "    print('%g: %s %s' % (t-t0, gta.eventIDs.eids2names[eid], v))"
   ]
  },
  {
   "cell_type": "code",
   "execution_count": null,
   "metadata": {},
   "outputs": [],
   "source": [
    "recorder.stop()"
   ]
  },
  {
   "cell_type": "code",
   "execution_count": null,
   "metadata": {
    "scrolled": true
   },
   "outputs": [],
   "source": [
    "fig, ax = plt.subplots(figsize=(8, 5))\n",
    "t0 = min(recorder.times)\n",
    "for name in gta.eventIDs.keys2names['gamepad axes'].keys():\n",
    "    tv = np.array([\n",
    "        (t-t0, v)\n",
    "        for (t, (k, v)) in zip(recorder.times, recorder.results)\n",
    "         if gta.eventIDs.eids2keys[k] == name\n",
    "    ])\n",
    "    if len(tv) > 0:\n",
    "        t = tv[:, 0]; v = tv[:, 1]\n",
    "        ax.plot(t, v, label=name, marker='o', markersize=2)\n",
    "ax.set_xlabel('$t-t_0$ [sec]')\n",
    "ax.set_ylabel('value')\n",
    "ax.legend();"
   ]
  },
  {
   "cell_type": "markdown",
   "metadata": {},
   "source": [
    "## Combine recorders in one object."
   ]
  },
  {
   "cell_type": "code",
   "execution_count": 91,
   "metadata": {
    "collapsed": true
   },
   "outputs": [],
   "source": [
    "import gta.unifiedRecorder\n",
    "reload(gta.unifiedRecorder);\n",
    "reload(gta.eventIDs);"
   ]
  },
  {
   "cell_type": "code",
   "execution_count": 87,
   "metadata": {},
   "outputs": [
    {
     "name": "stdout",
     "output_type": "stream",
     "text": [
      "Drive around with keyboard and controller ... done.\n"
     ]
    },
    {
     "data": {
      "text/plain": [
       "((435, 797, 1366, 3), (435, 143), (435,))"
      ]
     },
     "execution_count": 87,
     "metadata": {},
     "output_type": "execute_result"
    }
   ],
   "source": [
    "unifiedRecorder = gta.unifiedRecorder.UnifiedRecorder(includeKeyboard=True)\n",
    "\n",
    "unifiedRecorder.start()\n",
    "print('Drive around with keyboard and controller ...', end=' ')\n",
    "time.sleep(20)\n",
    "unifiedRecorder.stop()\n",
    "print('done.')\n",
    "\n",
    "X, YatX, Tx = unifiedRecorder.XYT()\n",
    "X.shape, YatX.shape, Tx.shape"
   ]
  },
  {
   "cell_type": "markdown",
   "metadata": {},
   "source": [
    "What controls were held at a few random times?"
   ]
  },
  {
   "cell_type": "code",
   "execution_count": 88,
   "metadata": {},
   "outputs": [
    {
     "name": "stdout",
     "output_type": "stream",
     "text": [
      "t = 0s: []\n",
      "t = 3.32s: ['gamepad_l_thumb_x', 'gamepad_l_thumb_y', 'gamepad_right_trigger']\n",
      "t = 27.6s: ['gamepad_l_thumb_x', 'gamepad_l_thumb_y', 'keyboard_left shift']\n"
     ]
    }
   ],
   "source": [
    "for ix in 0, 42, -60:\n",
    "    print('t = %.3gs: %s' % (\n",
    "        Tx[ix]-Tx[0],\n",
    "        [\n",
    "            gta.eventIDs.eids2names[eid]\n",
    "            for eid, value in enumerate(YatX[ix]) if value\n",
    "        ])\n",
    "    )"
   ]
  },
  {
   "cell_type": "markdown",
   "metadata": {},
   "source": [
    "How frequent was holding down multiple controls simultaneously?"
   ]
  },
  {
   "cell_type": "code",
   "execution_count": null,
   "metadata": {},
   "outputs": [],
   "source": [
    "numKeys = YatX.astype(bool).sum(1)\n",
    "numKeysSet = np.array(sorted(list(set(numKeys))))\n",
    "counts = [\n",
    "    (numKeys == n).sum()\n",
    "    for n in numKeysSet\n",
    "]\n",
    "fig, ax = plt.subplots()\n",
    "ax.bar(numKeysSet, counts)\n",
    "ax.set_xlabel('number of simultaneous controls applied')\n",
    "ax.set_ylabel('count of image frames');"
   ]
  },
  {
   "cell_type": "markdown",
   "metadata": {},
   "source": [
    "Frequent, but some of this might have been from the fact that the left stick was apparently stuck away from zero but within its dead zone while keyboard controls were being used. The frequent 3-control states probably were nonzero values of left stick x/y and right trigger (for steering and throttle)."
   ]
  },
  {
   "cell_type": "markdown",
   "metadata": {},
   "source": [
    "### Record without keyboard.\n",
    "Note that there are fewer columns in `YatX`."
   ]
  },
  {
   "cell_type": "code",
   "execution_count": 93,
   "metadata": {},
   "outputs": [
    {
     "name": "stdout",
     "output_type": "stream",
     "text": [
      "Drive around with controller only ... done.\n"
     ]
    },
    {
     "data": {
      "text/plain": [
       "((264, 797, 1366, 3), (264, 20), (264,))"
      ]
     },
     "execution_count": 93,
     "metadata": {},
     "output_type": "execute_result"
    }
   ],
   "source": [
    "unifiedRecorder = gta.unifiedRecorder.UnifiedRecorder(includeKeyboard=False)\n",
    "\n",
    "unifiedRecorder.start()\n",
    "print('Drive around with controller only ...', end=' ')\n",
    "time.sleep(20)\n",
    "unifiedRecorder.stop()\n",
    "print('done.')\n",
    "\n",
    "X, YatX, Tx = unifiedRecorder.XYT()\n",
    "X.shape, YatX.shape, Tx.shape"
   ]
  }
 ],
 "metadata": {
  "kernelspec": {
   "display_name": "Python 3",
   "language": "python",
   "name": "python3"
  },
  "language_info": {
   "codemirror_mode": {
    "name": "ipython",
    "version": 3
   },
   "file_extension": ".py",
   "mimetype": "text/x-python",
   "name": "python",
   "nbconvert_exporter": "python",
   "pygments_lexer": "ipython3",
   "version": "3.6.2"
  }
 },
 "nbformat": 4,
 "nbformat_minor": 2
}
