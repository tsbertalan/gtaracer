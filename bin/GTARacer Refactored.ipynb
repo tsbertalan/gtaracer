{
 "cells": [
  {
   "cell_type": "code",
   "execution_count": 1,
   "metadata": {
    "collapsed": true
   },
   "outputs": [],
   "source": [
    "import sys\n",
    "sys.path.append('../src')"
   ]
  },
  {
   "cell_type": "code",
   "execution_count": 2,
   "metadata": {
    "collapsed": true
   },
   "outputs": [],
   "source": [
    "from importlib import reload\n",
    "import numpy as np\n",
    "import matplotlib.pyplot as plt\n",
    "import time\n",
    "%matplotlib inline"
   ]
  },
  {
   "cell_type": "markdown",
   "metadata": {},
   "source": [
    "## Test vision recorder"
   ]
  },
  {
   "cell_type": "code",
   "execution_count": 3,
   "metadata": {},
   "outputs": [],
   "source": [
    "import gta.vision"
   ]
  },
  {
   "cell_type": "code",
   "execution_count": 4,
   "metadata": {
    "collapsed": true
   },
   "outputs": [],
   "source": [
    "recorder = gta.vision.VisionRecorder()\n",
    "recorder.start()\n",
    "time.sleep(2)\n",
    "recorder.stop()"
   ]
  },
  {
   "cell_type": "code",
   "execution_count": 5,
   "metadata": {},
   "outputs": [
    {
     "data": {
      "text/plain": [
       "(26, 797, 1366, 3)"
      ]
     },
     "execution_count": 5,
     "metadata": {},
     "output_type": "execute_result"
    }
   ],
   "source": [
    "recorder.results.shape"
   ]
  },
  {
   "cell_type": "code",
   "execution_count": 6,
   "metadata": {},
   "outputs": [
    {
     "name": "stdout",
     "output_type": "stream",
     "text": [
      "Mean time between images is 0.0705684 sec.\n"
     ]
    }
   ],
   "source": [
    "print('Mean time between images is %g sec.' % np.mean(np.diff(recorder.times)))"
   ]
  },
  {
   "cell_type": "code",
   "execution_count": null,
   "metadata": {},
   "outputs": [],
   "source": [
    "fig, ax = plt.subplots()\n",
    "i = -1\n",
    "ax.imshow(recorder.results[i])\n",
    "times = recorder.times\n",
    "ax.set_title('$t=%g$ sec' % (times[i] - times[0],));"
   ]
  },
  {
   "cell_type": "markdown",
   "metadata": {},
   "source": [
    "## Test keyboard recorder"
   ]
  },
  {
   "cell_type": "code",
   "execution_count": 8,
   "metadata": {},
   "outputs": [],
   "source": [
    "import gta.keyboard\n",
    "reload(gta.keyboard);"
   ]
  },
  {
   "cell_type": "code",
   "execution_count": 9,
   "metadata": {},
   "outputs": [
    {
     "name": "stdout",
     "output_type": "stream",
     "text": [
      "Use the keyboard now ... done.\n"
     ]
    }
   ],
   "source": [
    "recorder = gta.keyboard.KeyboardRecorder()\n",
    "recorder.start()\n",
    "print('Use the keyboard now ...', end=' ')\n",
    "time.sleep(10)\n",
    "recorder.stop()\n",
    "print('done.')"
   ]
  },
  {
   "cell_type": "markdown",
   "metadata": {},
   "source": [
    "abcd 1234"
   ]
  },
  {
   "cell_type": "code",
   "execution_count": 10,
   "metadata": {},
   "outputs": [
    {
     "data": {
      "text/plain": [
       "21"
      ]
     },
     "execution_count": 10,
     "metadata": {},
     "output_type": "execute_result"
    }
   ],
   "source": [
    "len(recorder.resultsList)"
   ]
  },
  {
   "cell_type": "code",
   "execution_count": 11,
   "metadata": {
    "scrolled": true
   },
   "outputs": [
    {
     "name": "stdout",
     "output_type": "stream",
     "text": [
      "0.000 enter 0 1\n",
      "0.132 enter 0 0\n",
      "0.380 left ctrl 0 1\n",
      "0.472 a 0 1\n",
      "0.556 left ctrl 0 0\n",
      "0.596 a 0 0\n",
      "0.832 a 0 1\n",
      "0.984 a 0 0\n",
      "1.024 b 0 1\n",
      "1.088 b 0 0\n",
      "1.204 c 0 1\n",
      "1.316 c 0 0\n",
      "1.324 d 0 1\n",
      "1.436 d 0 0\n",
      "1.456 space 0 1\n",
      "1.596 space 0 0\n",
      "1.602 1 0 1\n",
      "1.684 2 0 1\n",
      "1.724 1 0 0\n",
      "1.792 3 0 1\n",
      "1.872 2 0 0\n"
     ]
    }
   ],
   "source": [
    "t0 = recorder.times[0]\n",
    "[\n",
    "    print('%.3f %s %d %d' % (t-t0, recorder.scanCodes[sc], iskp, down))\n",
    "    for t, (sc, iskp, down) in zip(recorder.times, recorder.results)\n",
    "];"
   ]
  },
  {
   "cell_type": "markdown",
   "metadata": {},
   "source": [
    "## Test gamepad recorder"
   ]
  },
  {
   "cell_type": "code",
   "execution_count": 12,
   "metadata": {},
   "outputs": [
    {
     "data": {
      "text/plain": [
       "<module 'gta.gamepad' from '../src\\\\gta\\\\gamepad.py'>"
      ]
     },
     "execution_count": 12,
     "metadata": {},
     "output_type": "execute_result"
    }
   ],
   "source": [
    "import gta.gamepad\n",
    "reload(gta.gamepad)"
   ]
  },
  {
   "cell_type": "code",
   "execution_count": 13,
   "metadata": {},
   "outputs": [],
   "source": [
    "recorder = gta.gamepad.GamepadRecorder()"
   ]
  },
  {
   "cell_type": "code",
   "execution_count": 14,
   "metadata": {
    "collapsed": true
   },
   "outputs": [],
   "source": [
    "recorder.start()"
   ]
  },
  {
   "cell_type": "code",
   "execution_count": 15,
   "metadata": {},
   "outputs": [
    {
     "data": {
      "text/plain": [
       "True"
      ]
     },
     "execution_count": 15,
     "metadata": {},
     "output_type": "execute_result"
    }
   ],
   "source": [
    "recorder.worker.is_alive()"
   ]
  },
  {
   "cell_type": "code",
   "execution_count": 16,
   "metadata": {},
   "outputs": [
    {
     "name": "stdout",
     "output_type": "stream",
     "text": [
      "Use all 20 controls:\n",
      "0=d_up, \n",
      "1=d_down, \n",
      "2=d_left, \n",
      "3=d_right, \n",
      "4=start, \n",
      "5=back, \n",
      "6=l_stick, \n",
      "14=l_thumb_x, \n",
      "7=r_stick, \n",
      "8=l_bumper, \n",
      "9=r_bumper, \n",
      "10=a, \n",
      "11=b, \n",
      "12=x, \n",
      "13=y, \n",
      "15=l_thumb_y, \n",
      "16=r_thumb_x, \n",
      "17=r_thumb_y, \n",
      "18=left_trigger, \n",
      "19=right_trigger.\n"
     ]
    }
   ],
   "source": [
    "allKeys = set()\n",
    "nbuttons = 20\n",
    "print('Use all %d controls:' % nbuttons)\n",
    "while True:\n",
    "    time.sleep(1)\n",
    "    l = set([n for (t, (n, v)) in recorder.resultsList])\n",
    "    newKeys = l.difference(allKeys)\n",
    "    done = False\n",
    "    if len(newKeys) > 0:\n",
    "        for eid in newKeys:\n",
    "            print(eid, end='=')\n",
    "            print(gta.gamepad.eid2name(eid), end='')\n",
    "            allKeys.add(eid)\n",
    "            if len(allKeys) >= nbuttons:\n",
    "                print('.')\n",
    "                done = True\n",
    "            else:\n",
    "                print(', ')\n",
    "    if done:\n",
    "        break"
   ]
  },
  {
   "cell_type": "code",
   "execution_count": 17,
   "metadata": {},
   "outputs": [
    {
     "data": {
      "text/plain": [
       "837"
      ]
     },
     "execution_count": 17,
     "metadata": {},
     "output_type": "execute_result"
    }
   ],
   "source": [
    "len(recorder.times)"
   ]
  },
  {
   "cell_type": "code",
   "execution_count": null,
   "metadata": {
    "scrolled": true
   },
   "outputs": [],
   "source": [
    "t0 = recorder.times[0]\n",
    "for (t, (eid, v)) in recorder.resultsList:\n",
    "    print('%g: %s %s' % (t-t0, gta.gamepad.eid2name(eid), v))"
   ]
  },
  {
   "cell_type": "code",
   "execution_count": 19,
   "metadata": {},
   "outputs": [],
   "source": [
    "recorder.stop()"
   ]
  },
  {
   "cell_type": "code",
   "execution_count": null,
   "metadata": {},
   "outputs": [],
   "source": [
    "fig, ax = plt.subplots(figsize=(8, 5))\n",
    "t0 = min(recorder.times)\n",
    "for name in gta.gamepad.axisNames:\n",
    "    tv = np.array([\n",
    "        (t-t0, v)\n",
    "        for (t, (k, v)) in zip(recorder.times, recorder.results)\n",
    "         if gta.gamepad.eid2name(k) == name\n",
    "    ])\n",
    "    t = tv[:, 0]; v = tv[:, 1]\n",
    "    ax.plot(t, v, label=name, marker='o', markersize=2)\n",
    "ax.set_xlabel('$t-t_0$ [sec]')\n",
    "ax.set_ylabel('value')\n",
    "ax.legend()"
   ]
  }
 ],
 "metadata": {
  "kernelspec": {
   "display_name": "Python 3",
   "language": "python",
   "name": "python3"
  },
  "language_info": {
   "codemirror_mode": {
    "name": "ipython",
    "version": 3
   },
   "file_extension": ".py",
   "mimetype": "text/x-python",
   "name": "python",
   "nbconvert_exporter": "python",
   "pygments_lexer": "ipython3",
   "version": "3.6.2"
  }
 },
 "nbformat": 4,
 "nbformat_minor": 2
}
